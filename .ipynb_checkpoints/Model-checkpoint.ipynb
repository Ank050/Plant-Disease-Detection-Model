{
 "cells": [
  {
   "cell_type": "code",
   "execution_count": 1,
   "id": "27ff1545",
   "metadata": {},
   "outputs": [],
   "source": [
    "import tensorflow as tf\n",
    "from tensorflow.keras import models, layers\n",
    "import matplotlib.pyplot as plt\n",
    "from IPython.display import HTML"
   ]
  },
  {
   "cell_type": "code",
   "execution_count": 2,
   "id": "f071a0e5",
   "metadata": {},
   "outputs": [],
   "source": [
    "IMAGE_SIZE = 256\n",
    "CHANNELS = 3"
   ]
  },
  {
   "cell_type": "code",
   "execution_count": 3,
   "id": "481c5019",
   "metadata": {},
   "outputs": [
    {
     "name": "stdout",
     "output_type": "stream",
     "text": [
      "Found 3700 images belonging to 16 classes.\n"
     ]
    }
   ],
   "source": [
    "from tensorflow.keras.preprocessing.image import ImageDataGenerator\n",
    "\n",
    "train_datagen = ImageDataGenerator(\n",
    "        rescale=1./255,\n",
    "        rotation_range=10,\n",
    "        horizontal_flip=True\n",
    ")\n",
    "train_generator = train_datagen.flow_from_directory(\n",
    "        'dataset/train',\n",
    "        target_size=(IMAGE_SIZE,IMAGE_SIZE),\n",
    "        batch_size=32,\n",
    "        class_mode=\"sparse\",\n",
    ")"
   ]
  },
  {
   "cell_type": "code",
   "execution_count": 4,
   "id": "c8011f50",
   "metadata": {},
   "outputs": [
    {
     "data": {
      "text/plain": [
       "{'Apple___Black_rot': 0,\n",
       " 'Apple___Cedar_apple_rust': 1,\n",
       " 'Apple___healthy': 2,\n",
       " 'Corn_(maize)___Common_rust_': 3,\n",
       " 'Corn_(maize)___Northern_Leaf_Blight': 4,\n",
       " 'Corn_(maize)___healthy': 5,\n",
       " 'Grape___Black_rot': 6,\n",
       " 'Grape___Esca_(Black_Measles)': 7,\n",
       " 'Grape___healthy': 8,\n",
       " 'Potato___Early_blight': 9,\n",
       " 'Potato___Late_blight': 10,\n",
       " 'Potato___healthy': 11,\n",
       " 'Tomato___Bacterial_spot': 12,\n",
       " 'Tomato___Early_blight': 13,\n",
       " 'Tomato___Late_blight': 14,\n",
       " 'Tomato___healthy': 15}"
      ]
     },
     "execution_count": 4,
     "metadata": {},
     "output_type": "execute_result"
    }
   ],
   "source": [
    "train_generator.class_indices"
   ]
  },
  {
   "cell_type": "code",
   "execution_count": 5,
   "id": "48b61f41",
   "metadata": {},
   "outputs": [
    {
     "data": {
      "text/plain": [
       "['Apple___Black_rot',\n",
       " 'Apple___Cedar_apple_rust',\n",
       " 'Apple___healthy',\n",
       " 'Corn_(maize)___Common_rust_',\n",
       " 'Corn_(maize)___Northern_Leaf_Blight',\n",
       " 'Corn_(maize)___healthy',\n",
       " 'Grape___Black_rot',\n",
       " 'Grape___Esca_(Black_Measles)',\n",
       " 'Grape___healthy',\n",
       " 'Potato___Early_blight',\n",
       " 'Potato___Late_blight',\n",
       " 'Potato___healthy',\n",
       " 'Tomato___Bacterial_spot',\n",
       " 'Tomato___Early_blight',\n",
       " 'Tomato___Late_blight',\n",
       " 'Tomato___healthy']"
      ]
     },
     "execution_count": 5,
     "metadata": {},
     "output_type": "execute_result"
    }
   ],
   "source": [
    "class_names = list(train_generator.class_indices.keys())\n",
    "class_names"
   ]
  },
  {
   "cell_type": "code",
   "execution_count": 7,
   "id": "5ea714c2",
   "metadata": {},
   "outputs": [
    {
     "name": "stdout",
     "output_type": "stream",
     "text": [
      "[[[0.55427516 0.5307457  0.5307457 ]\n",
      "  [0.5625362  0.53900677 0.53900677]\n",
      "  [0.55945057 0.53592116 0.53592116]\n",
      "  ...\n",
      "  [0.2089169  0.1971522  0.23244631]\n",
      "  [0.21095538 0.19919066 0.23448479]\n",
      "  [0.21226284 0.20049813 0.23579225]]\n",
      "\n",
      " [[0.5464951  0.52296567 0.52296567]\n",
      "  [0.55595386 0.5324244  0.5324244 ]\n",
      "  [0.5538584  0.530329   0.530329  ]\n",
      "  ...\n",
      "  [0.24078088 0.22901617 0.26431027]\n",
      "  [0.2438615  0.23209679 0.2673909 ]\n",
      "  [0.24496908 0.23320438 0.26849848]]\n",
      "\n",
      " [[0.5358794  0.51234996 0.51234996]\n",
      "  [0.5454022  0.5218728  0.5218728 ]\n",
      "  [0.5428828  0.5193534  0.5193534 ]\n",
      "  ...\n",
      "  [0.270888   0.2591233  0.2944174 ]\n",
      "  [0.27565342 0.26388872 0.29918283]\n",
      "  [0.27892917 0.26716447 0.30245858]]\n",
      "\n",
      " ...\n",
      "\n",
      " [[0.6126805  0.5734648  0.5773864 ]\n",
      "  [0.6351206  0.5959049  0.59982646]\n",
      "  [0.6242552  0.5850395  0.58896106]\n",
      "  ...\n",
      "  [0.37254903 0.3647059  0.38431376]\n",
      "  [0.3715786  0.36373547 0.3833433 ]\n",
      "  [0.37397856 0.36613542 0.38574326]]\n",
      "\n",
      " [[0.5995821  0.5603664  0.56428796]\n",
      "  [0.6036608  0.56444514 0.5683667 ]\n",
      "  [0.61129606 0.5720803  0.5760019 ]\n",
      "  ...\n",
      "  [0.36891723 0.3610741  0.38068193]\n",
      "  [0.36420512 0.356362   0.37596983]\n",
      "  [0.3650394  0.35719627 0.3768041 ]]\n",
      "\n",
      " [[0.59607846 0.5568628  0.56078434]\n",
      "  [0.60529995 0.5660842  0.5700058 ]\n",
      "  [0.6053777  0.566162   0.57008356]\n",
      "  ...\n",
      "  [0.3642879  0.35644478 0.37605262]\n",
      "  [0.35644484 0.3486017  0.36820954]\n",
      "  [0.35511094 0.3472678  0.36687565]]]\n"
     ]
    }
   ],
   "source": [
    "for image_batch, label_batch in train_generator:\n",
    "\n",
    "    print(image_batch[0])\n",
    "    break"
   ]
  },
  {
   "cell_type": "code",
   "execution_count": 8,
   "id": "e159071b",
   "metadata": {},
   "outputs": [
    {
     "name": "stdout",
     "output_type": "stream",
     "text": [
      "Found 523 images belonging to 16 classes.\n"
     ]
    }
   ],
   "source": [
    "validation_datagen = ImageDataGenerator(\n",
    "        rescale=1./255,\n",
    "        rotation_range=10,\n",
    "        horizontal_flip=True)\n",
    "validation_generator = validation_datagen.flow_from_directory(\n",
    "        'dataset/val',\n",
    "        target_size=(IMAGE_SIZE,IMAGE_SIZE),\n",
    "        batch_size=32,\n",
    "        class_mode=\"sparse\"\n",
    ")"
   ]
  },
  {
   "cell_type": "code",
   "execution_count": 9,
   "id": "1df606de",
   "metadata": {},
   "outputs": [
    {
     "name": "stdout",
     "output_type": "stream",
     "text": [
      "Found 1073 images belonging to 16 classes.\n"
     ]
    }
   ],
   "source": [
    "test_datagen = ImageDataGenerator(\n",
    "        rescale=1./255,\n",
    "        rotation_range=10,\n",
    "        horizontal_flip=True)\n",
    "\n",
    "test_generator = test_datagen.flow_from_directory(\n",
    "        'dataset/test',\n",
    "        target_size=(IMAGE_SIZE,IMAGE_SIZE),\n",
    "        batch_size=32,\n",
    "        class_mode=\"sparse\"\n",
    ")"
   ]
  },
  {
   "cell_type": "code",
   "execution_count": 10,
   "id": "d248962f",
   "metadata": {},
   "outputs": [
    {
     "name": "stdout",
     "output_type": "stream",
     "text": [
      "[[[0.599274   0.59143084 0.6737838 ]\n",
      "  [0.59179133 0.5839482  0.66630113]\n",
      "  [0.5843141  0.576471   0.6588239 ]\n",
      "  ...\n",
      "  [0.5874872  0.60709506 0.69336957]\n",
      "  [0.56959295 0.5892008  0.67547536]\n",
      "  [0.6329603  0.65256816 0.7388427 ]]\n",
      "\n",
      " [[0.6286549  0.62081176 0.7031647 ]\n",
      "  [0.63613755 0.6282944  0.71064734]\n",
      "  [0.6426544  0.6348113  0.7171642 ]\n",
      "  ...\n",
      "  [0.57950574 0.5991136  0.6853881 ]\n",
      "  [0.5690942  0.588702   0.6749765 ]\n",
      "  [0.64393485 0.6635427  0.7498172 ]]\n",
      "\n",
      " [[0.6001855  0.5923424  0.6746954 ]\n",
      "  [0.59170526 0.5838621  0.66621506]\n",
      "  [0.58527446 0.5774313  0.65978426]\n",
      "  ...\n",
      "  [0.572485   0.5920929  0.6783674 ]\n",
      "  [0.5693357  0.58894354 0.67521805]\n",
      "  [0.6548943  0.67450213 0.760776  ]]\n",
      "\n",
      " ...\n",
      "\n",
      " [[0.2588366  0.2313856  0.30197385]\n",
      "  [0.30938545 0.28193447 0.35252273]\n",
      "  [0.51039505 0.482944   0.5535323 ]\n",
      "  ...\n",
      "  [0.40597114 0.3863633  0.46479467]\n",
      "  [0.39218217 0.37257433 0.4510057 ]\n",
      "  [0.37871346 0.35910562 0.437537  ]]\n",
      "\n",
      " [[0.26530412 0.23785315 0.3084414 ]\n",
      "  [0.33406976 0.30661878 0.377207  ]\n",
      "  [0.5067688  0.47931784 0.5499061 ]\n",
      "  ...\n",
      "  [0.52870363 0.5090958  0.58752716]\n",
      "  [0.514479   0.49487117 0.57330257]\n",
      "  [0.49851605 0.4789082  0.5573396 ]]\n",
      "\n",
      " [[0.27178904 0.2443381  0.31492633]\n",
      "  [0.3600095  0.3325585  0.40314674]\n",
      "  [0.49878737 0.4713364  0.5419246 ]\n",
      "  ...\n",
      "  [0.4431289  0.42352107 0.5019524 ]\n",
      "  [0.45410442 0.43449658 0.512928  ]\n",
      "  [0.46507895 0.4454711  0.5239025 ]]]\n"
     ]
    }
   ],
   "source": [
    "for image_batch, label_batch in test_generator:\n",
    "    print(image_batch[0])\n",
    "    break"
   ]
  },
  {
   "cell_type": "code",
   "execution_count": 17,
   "id": "39a7c76f",
   "metadata": {},
   "outputs": [],
   "source": [
    "input_shape = (IMAGE_SIZE, IMAGE_SIZE, CHANNELS)\n",
    "n_classes = 16\n",
    "\n",
    "model = models.Sequential([\n",
    "    layers.InputLayer(input_shape=input_shape),\n",
    "    layers.Conv2D(32, kernel_size = (3,3), activation='relu'),\n",
    "    layers.MaxPooling2D((2, 2)),\n",
    "    layers.Conv2D(64,  kernel_size = (3,3), activation='relu'),\n",
    "    layers.MaxPooling2D((2, 2)),\n",
    "    layers.Conv2D(64,  kernel_size = (3,3), activation='relu'),\n",
    "    layers.MaxPooling2D((2, 2)),\n",
    "    layers.Conv2D(64, (3, 3), activation='relu'),\n",
    "    layers.MaxPooling2D((2, 2)),\n",
    "    layers.Conv2D(64, (3, 3), activation='relu'),\n",
    "    layers.MaxPooling2D((2, 2)),\n",
    "    layers.Conv2D(64, (3, 3), activation='relu'),\n",
    "    layers.MaxPooling2D((2, 2)),\n",
    "    layers.Flatten(),\n",
    "    layers.Dense(64, activation='relu'),\n",
    "    layers.Dense(n_classes, activation='softmax'),\n",
    "])"
   ]
  },
  {
   "cell_type": "code",
   "execution_count": 18,
   "id": "3b3d8156",
   "metadata": {},
   "outputs": [
    {
     "name": "stdout",
     "output_type": "stream",
     "text": [
      "Model: \"sequential_1\"\n",
      "_________________________________________________________________\n",
      " Layer (type)                Output Shape              Param #   \n",
      "=================================================================\n",
      " conv2d_6 (Conv2D)           (None, 254, 254, 32)      896       \n",
      "                                                                 \n",
      " max_pooling2d_6 (MaxPooling  (None, 127, 127, 32)     0         \n",
      " 2D)                                                             \n",
      "                                                                 \n",
      " conv2d_7 (Conv2D)           (None, 125, 125, 64)      18496     \n",
      "                                                                 \n",
      " max_pooling2d_7 (MaxPooling  (None, 62, 62, 64)       0         \n",
      " 2D)                                                             \n",
      "                                                                 \n",
      " conv2d_8 (Conv2D)           (None, 60, 60, 64)        36928     \n",
      "                                                                 \n",
      " max_pooling2d_8 (MaxPooling  (None, 30, 30, 64)       0         \n",
      " 2D)                                                             \n",
      "                                                                 \n",
      " conv2d_9 (Conv2D)           (None, 28, 28, 64)        36928     \n",
      "                                                                 \n",
      " max_pooling2d_9 (MaxPooling  (None, 14, 14, 64)       0         \n",
      " 2D)                                                             \n",
      "                                                                 \n",
      " conv2d_10 (Conv2D)          (None, 12, 12, 64)        36928     \n",
      "                                                                 \n",
      " max_pooling2d_10 (MaxPoolin  (None, 6, 6, 64)         0         \n",
      " g2D)                                                            \n",
      "                                                                 \n",
      " conv2d_11 (Conv2D)          (None, 4, 4, 64)          36928     \n",
      "                                                                 \n",
      " max_pooling2d_11 (MaxPoolin  (None, 2, 2, 64)         0         \n",
      " g2D)                                                            \n",
      "                                                                 \n",
      " flatten_1 (Flatten)         (None, 256)               0         \n",
      "                                                                 \n",
      " dense_2 (Dense)             (None, 64)                16448     \n",
      "                                                                 \n",
      " dense_3 (Dense)             (None, 16)                1040      \n",
      "                                                                 \n",
      "=================================================================\n",
      "Total params: 184,592\n",
      "Trainable params: 184,592\n",
      "Non-trainable params: 0\n",
      "_________________________________________________________________\n"
     ]
    }
   ],
   "source": [
    "model.summary()"
   ]
  },
  {
   "cell_type": "code",
   "execution_count": 19,
   "id": "f31a5727",
   "metadata": {},
   "outputs": [],
   "source": [
    "model.compile(\n",
    "    optimizer='adam',\n",
    "    loss=tf.keras.losses.SparseCategoricalCrossentropy(from_logits=False),\n",
    "    metrics=['accuracy']\n",
    ")"
   ]
  },
  {
   "cell_type": "code",
   "execution_count": 20,
   "id": "850e1f66",
   "metadata": {},
   "outputs": [
    {
     "data": {
      "text/plain": [
       "16.34375"
      ]
     },
     "execution_count": 20,
     "metadata": {},
     "output_type": "execute_result"
    }
   ],
   "source": [
    "3700/32\n",
    "523/32\n"
   ]
  },
  {
   "cell_type": "code",
   "execution_count": 21,
   "id": "e76ae58f",
   "metadata": {},
   "outputs": [
    {
     "name": "stdout",
     "output_type": "stream",
     "text": [
      "Epoch 1/20\n",
      "115/115 [==============================] - 129s 1s/step - loss: 2.5575 - accuracy: 0.1576 - val_loss: 1.9975 - val_accuracy: 0.3535\n",
      "Epoch 2/20\n",
      "115/115 [==============================] - 126s 1s/step - loss: 1.8188 - accuracy: 0.3855 - val_loss: 1.4804 - val_accuracy: 0.4746\n",
      "Epoch 3/20\n",
      "115/115 [==============================] - 125s 1s/step - loss: 1.3268 - accuracy: 0.5523 - val_loss: 1.2547 - val_accuracy: 0.5801\n",
      "Epoch 4/20\n",
      "115/115 [==============================] - 125s 1s/step - loss: 0.9959 - accuracy: 0.6663 - val_loss: 1.0151 - val_accuracy: 0.6543\n",
      "Epoch 5/20\n",
      "115/115 [==============================] - 125s 1s/step - loss: 0.7832 - accuracy: 0.7383 - val_loss: 0.8314 - val_accuracy: 0.7031\n",
      "Epoch 6/20\n",
      "115/115 [==============================] - 126s 1s/step - loss: 0.6125 - accuracy: 0.7887 - val_loss: 0.6350 - val_accuracy: 0.8008\n",
      "Epoch 7/20\n",
      "115/115 [==============================] - 126s 1s/step - loss: 0.5116 - accuracy: 0.8212 - val_loss: 0.5329 - val_accuracy: 0.8125\n",
      "Epoch 8/20\n",
      "115/115 [==============================] - 126s 1s/step - loss: 0.4482 - accuracy: 0.8378 - val_loss: 0.4290 - val_accuracy: 0.8477\n",
      "Epoch 9/20\n",
      "115/115 [==============================] - 125s 1s/step - loss: 0.4068 - accuracy: 0.8610 - val_loss: 0.3912 - val_accuracy: 0.8496\n",
      "Epoch 10/20\n",
      "115/115 [==============================] - 126s 1s/step - loss: 0.3231 - accuracy: 0.8852 - val_loss: 0.3230 - val_accuracy: 0.8848\n",
      "Epoch 11/20\n",
      "115/115 [==============================] - 125s 1s/step - loss: 0.2407 - accuracy: 0.9174 - val_loss: 0.3457 - val_accuracy: 0.8867\n",
      "Epoch 12/20\n",
      "115/115 [==============================] - 127s 1s/step - loss: 0.2272 - accuracy: 0.9226 - val_loss: 0.2982 - val_accuracy: 0.9043\n",
      "Epoch 13/20\n",
      "115/115 [==============================] - 126s 1s/step - loss: 0.2418 - accuracy: 0.9128 - val_loss: 0.2992 - val_accuracy: 0.9102\n",
      "Epoch 14/20\n",
      "115/115 [==============================] - 124s 1s/step - loss: 0.2267 - accuracy: 0.9239 - val_loss: 0.2472 - val_accuracy: 0.9199\n",
      "Epoch 15/20\n",
      "115/115 [==============================] - 122s 1s/step - loss: 0.1832 - accuracy: 0.9381 - val_loss: 0.2410 - val_accuracy: 0.9238\n",
      "Epoch 16/20\n",
      "115/115 [==============================] - 121s 1s/step - loss: 0.1263 - accuracy: 0.9528 - val_loss: 0.2361 - val_accuracy: 0.9297\n",
      "Epoch 17/20\n",
      "115/115 [==============================] - 122s 1s/step - loss: 0.1370 - accuracy: 0.9542 - val_loss: 0.1597 - val_accuracy: 0.9375\n",
      "Epoch 18/20\n",
      "115/115 [==============================] - 121s 1s/step - loss: 0.1104 - accuracy: 0.9583 - val_loss: 0.2859 - val_accuracy: 0.9180\n",
      "Epoch 19/20\n",
      "115/115 [==============================] - 121s 1s/step - loss: 0.1647 - accuracy: 0.9427 - val_loss: 0.3097 - val_accuracy: 0.9023\n",
      "Epoch 20/20\n",
      "115/115 [==============================] - 121s 1s/step - loss: 0.1516 - accuracy: 0.9479 - val_loss: 0.2229 - val_accuracy: 0.9141\n"
     ]
    }
   ],
   "source": [
    "history = model.fit(\n",
    "    train_generator,\n",
    "    steps_per_epoch=115,\n",
    "    batch_size=32,\n",
    "    validation_data=validation_generator,\n",
    "    validation_steps=16,\n",
    "    verbose=1,\n",
    "    epochs=20,\n",
    ")"
   ]
  },
  {
   "cell_type": "code",
   "execution_count": 22,
   "id": "33fc858b",
   "metadata": {},
   "outputs": [
    {
     "name": "stdout",
     "output_type": "stream",
     "text": [
      "34/34 [==============================] - 18s 536ms/step - loss: 0.2445 - accuracy: 0.9068\n"
     ]
    }
   ],
   "source": [
    "scores = model.evaluate(test_generator)"
   ]
  },
  {
   "cell_type": "code",
   "execution_count": 23,
   "id": "23e66f81",
   "metadata": {},
   "outputs": [],
   "source": [
    "model.save(\"final.h5\")"
   ]
  },
  {
   "cell_type": "code",
   "execution_count": null,
   "id": "6c61df60",
   "metadata": {},
   "outputs": [],
   "source": []
  }
 ],
 "metadata": {
  "kernelspec": {
   "display_name": "Python 3 (ipykernel)",
   "language": "python",
   "name": "python3"
  },
  "language_info": {
   "codemirror_mode": {
    "name": "ipython",
    "version": 3
   },
   "file_extension": ".py",
   "mimetype": "text/x-python",
   "name": "python",
   "nbconvert_exporter": "python",
   "pygments_lexer": "ipython3",
   "version": "3.10.0"
  }
 },
 "nbformat": 4,
 "nbformat_minor": 5
}
